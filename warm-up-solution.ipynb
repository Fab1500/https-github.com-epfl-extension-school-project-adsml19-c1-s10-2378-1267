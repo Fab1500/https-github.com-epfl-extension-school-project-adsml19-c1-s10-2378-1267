{
 "cells": [
  {
   "cell_type": "markdown",
   "metadata": {},
   "source": [
    "# Part 1 - Warm-up #"
   ]
  },
  {
   "cell_type": "markdown",
   "metadata": {},
   "source": [
    "### Task 1 ###\n",
    "1. Fit the curve and plot it\n"
   ]
  },
  {
   "cell_type": "code",
   "execution_count": 1,
   "metadata": {},
   "outputs": [
    {
     "data": {
      "text/html": [
       "<div>\n",
       "<style scoped>\n",
       "    .dataframe tbody tr th:only-of-type {\n",
       "        vertical-align: middle;\n",
       "    }\n",
       "\n",
       "    .dataframe tbody tr th {\n",
       "        vertical-align: top;\n",
       "    }\n",
       "\n",
       "    .dataframe thead th {\n",
       "        text-align: right;\n",
       "    }\n",
       "</style>\n",
       "<table border=\"1\" class=\"dataframe\">\n",
       "  <thead>\n",
       "    <tr style=\"text-align: right;\">\n",
       "      <th></th>\n",
       "      <th>x</th>\n",
       "      <th>y</th>\n",
       "    </tr>\n",
       "  </thead>\n",
       "  <tbody>\n",
       "    <tr>\n",
       "      <th>0</th>\n",
       "      <td>10.529</td>\n",
       "      <td>39.105</td>\n",
       "    </tr>\n",
       "    <tr>\n",
       "      <th>1</th>\n",
       "      <td>10.799</td>\n",
       "      <td>40.584</td>\n",
       "    </tr>\n",
       "    <tr>\n",
       "      <th>2</th>\n",
       "      <td>11.698</td>\n",
       "      <td>39.883</td>\n",
       "    </tr>\n",
       "    <tr>\n",
       "      <th>3</th>\n",
       "      <td>12.851</td>\n",
       "      <td>39.411</td>\n",
       "    </tr>\n",
       "    <tr>\n",
       "      <th>4</th>\n",
       "      <td>13.565</td>\n",
       "      <td>40.760</td>\n",
       "    </tr>\n",
       "  </tbody>\n",
       "</table>\n",
       "</div>"
      ],
      "text/plain": [
       "        x       y\n",
       "0  10.529  39.105\n",
       "1  10.799  40.584\n",
       "2  11.698  39.883\n",
       "3  12.851  39.411\n",
       "4  13.565  40.760"
      ]
     },
     "execution_count": 1,
     "metadata": {},
     "output_type": "execute_result"
    }
   ],
   "source": [
    "import pandas as pd\n",
    "\n",
    "#load task-1 data in a dataframe\n",
    "\n",
    "data_df = pd.read_csv('task-1.csv')\n",
    "data_df.head()"
   ]
  },
  {
   "cell_type": "code",
   "execution_count": 2,
   "metadata": {},
   "outputs": [
    {
     "name": "stdout",
     "output_type": "stream",
     "text": [
      "Coefficients: [ 7.80631838 31.52920122]\n"
     ]
    },
    {
     "data": {
      "image/png": "[encoded data removed]",
      "text/plain": [
       "<Figure size 432x288 with 1 Axes>"
      ]
     },
     "metadata": {
      "needs_background": "light"
     },
     "output_type": "display_data"
    }
   ],
   "source": [
    "import numpy as np\n",
    "\n",
    "#define the arrays x and y\n",
    "x= data_df.x.values\n",
    "y= data_df.y.values\n",
    "\n",
    "#fit the data to model\n",
    "coefs = np.polyfit(np.log10(x), y, deg=1)\n",
    "print('Coefficients:', coefs) # [ 7.80631838 31.52920122]\n",
    "\n",
    "# Generate a hundred data points\n",
    "x_values = np.linspace(x.min(), x.max(), num=100)\n",
    "# Compute predictions\n",
    "y_values = np.polyval(coefs, np.log10(x_values))\n",
    "\n",
    "#plot the data\n",
    "%matplotlib inline\n",
    "import matplotlib.pyplot as plt\n",
    "\n",
    "plt.scatter(data_df.x,data_df.y)\n",
    "plt.plot(x_values, y_values, c='C3', label='y=a*log(x)+b')\n",
    "plt.xlabel('x')\n",
    "plt.ylabel('y')\n",
    "plt.title('Regression deg 1 on Log(x)')\n",
    "plt.legend()\n",
    "plt.show()"
   ]
  },
  {
   "cell_type": "markdown",
   "metadata": {},
   "source": [
    "2. Compute the RSS and R<sup>2</sup> measures"
   ]
  },
  {
   "cell_type": "code",
   "execution_count": 3,
   "metadata": {},
   "outputs": [
    {
     "name": "stdout",
     "output_type": "stream",
     "text": [
      "RSS: 31.843\n",
      "RSS_baseline: 541.143\n",
      "R2:  0.9411567093138287\n"
     ]
    }
   ],
   "source": [
    "#Compute the Residual Sum of Squares (RSS)\n",
    "\n",
    "def RSS (y,y_pred):\n",
    "    return np.sum(np.square(y-y_pred))\n",
    "\n",
    "y_pred = np.polyval(coefs, np.log10(x))\n",
    "\n",
    "#RSS model\n",
    "RSS_model = RSS(y,y_pred)\n",
    "print('RSS: {:.3f}'.format(RSS(y, y_pred))) # RSS: 31.843\n",
    "\n",
    "\n",
    "#Compute the R2 measure (Coefficient of determination)\n",
    "\n",
    "#RSS baseline\n",
    "RSS_baseline = RSS(y,y.mean())\n",
    "print('RSS_baseline: {:.3f}'.format(RSS(y,y.mean()))) # 541.143\n",
    "\n",
    "#R2\n",
    "R2 = 1-(RSS_model/RSS_baseline) # 0.9411567093138287\n",
    "\n",
    "print('R2: ',R2)"
   ]
  },
  {
   "cell_type": "markdown",
   "metadata": {},
   "source": [
    "3. Discuss the results, is it a good R<sup>2</sup> score?"
   ]
  },
  {
   "cell_type": "markdown",
   "metadata": {},
   "source": [
    "> Usually we can interpret **4** different cases while analysing R<sup>2</sup> scores (R<sup>2</sup>= 1, R<sup>2</sup> close to 1, R<sup>2</sup> close to 0 and R<sup>2</sup> < 0). In our case R<sup>2</sup> is close to **1** (0.94), then the model performs\n",
    "way better than the baseline and one can say that **0.94** is a good\n",
    "R<sup>2</sup> score."
   ]
  },
  {
   "cell_type": "markdown",
   "metadata": {},
   "source": [
    "### Task 2 ###\n",
    "1. Fit a linear regression with the outliers"
   ]
  },
  {
   "cell_type": "code",
   "execution_count": 4,
   "metadata": {},
   "outputs": [
    {
     "name": "stdout",
     "output_type": "stream",
     "text": [
      "[ 3.18946219  0.72611244 -0.29586984]\n",
      "MAE_lr: 104.7884\n"
     ]
    }
   ],
   "source": [
    "import pandas as pd\n",
    "import numpy as np\n",
    "\n",
    "# load task-2 data in a dataframe\n",
    "data_df2 = pd.read_csv('task-2.csv')\n",
    "data_df2.head()\n",
    "\n",
    "# Split into train/test sets\n",
    "from sklearn.model_selection import train_test_split\n",
    "from sklearn.metrics import mean_absolute_error as MAE\n",
    "\n",
    "y = data_df2.y.values\n",
    "X = data_df2.drop('y', axis=1).values\n",
    "\n",
    "X_tr, X_te, y_tr, y_te = train_test_split(X,y,test_size=0.2, random_state=0)\n",
    "\n",
    "# linear regression with the outliers\n",
    "from sklearn.linear_model import LinearRegression\n",
    "\n",
    "lr = LinearRegression()\n",
    "\n",
    "lr.fit(X_tr,y_tr)\n",
    "print(lr.coef_) # [ 3.18946219  0.72611244 -0.29586984]\n",
    "\n",
    "y_pred_lr = lr.predict(X_te)\n",
    "\n",
    "print('MAE_lr: {:.4f}'.format(MAE(y_te, y_pred_lr)))  # MAE_lr: 104.7884\n"
   ]
  },
  {
   "cell_type": "markdown",
   "metadata": {},
   "source": [
    "2. Fit a huber regression with the outliers"
   ]
  },
  {
   "cell_type": "code",
   "execution_count": 5,
   "metadata": {},
   "outputs": [
    {
     "name": "stdout",
     "output_type": "stream",
     "text": [
      "[11.70103561  2.21157024 -0.3504923 ]\n",
      "MAE_lr_huber 83.9081\n"
     ]
    }
   ],
   "source": [
    "# Huber regression with the outliers\n",
    "from sklearn.linear_model import HuberRegressor\n",
    "\n",
    "lr_huber= HuberRegressor()\n",
    "\n",
    "lr_huber.fit(X_tr, y_tr)\n",
    "print(lr_huber.coef_) # [11.70103561  2.21157024 -0.3504923 ]\n",
    "\n",
    "y_pred_lr_huber = lr_huber.predict(X_te)\n",
    "\n",
    "print('MAE_lr_huber {:.4f}'.format(MAE(y_te, y_pred_lr_huber))) # MAE_lr_huber 83.9081"
   ]
  },
  {
   "cell_type": "markdown",
   "metadata": {},
   "source": [
    "3. Fit a linear regression without the outliers"
   ]
  },
  {
   "cell_type": "code",
   "execution_count": 6,
   "metadata": {},
   "outputs": [
    {
     "data": {
      "image/png": "[encoded data removed]",
      "text/plain": [
       "<Figure size 720x144 with 4 Axes>"
      ]
     },
     "metadata": {
      "needs_background": "light"
     },
     "output_type": "display_data"
    },
    {
     "data": {
      "text/plain": [
       "(1000, 4)"
      ]
     },
     "execution_count": 6,
     "metadata": {},
     "output_type": "execute_result"
    }
   ],
   "source": [
    "import pandas as pd\n",
    "import numpy as np\n",
    "\n",
    "#plotting the data\n",
    "%matplotlib inline\n",
    "import matplotlib.pyplot as plt\n",
    "\n",
    "columns = ['x1','x2','x3','y']\n",
    "\n",
    "fig,axes = plt.subplots(nrows=1, ncols=4, figsize =(10,2))\n",
    "\n",
    "for c, ax in zip (columns,axes.ravel()):\n",
    "    ax.hist(data_df2[c], bins=30)\n",
    "    ax.set_title(c)\n",
    "\n",
    "plt.tight_layout() # to avoid overlapping with the labels\n",
    "plt.show()\n",
    "\n",
    "#work on a copy\n",
    "df = data_df2.copy()\n",
    "\n",
    "#compute z-scores, and eliminate outliers\n",
    "\n",
    "for c in columns:\n",
    "    df[c] = (df[c]-df[c].mean())/df[c].std()\n",
    "    idx = (np.abs(df[c])>2)\n",
    "    df[c]= df[c][~idx]\n",
    "    name = '{}'.format(c)\n",
    "    df[name] = df[c]\n",
    "\n",
    "#dataframe without outliers (keep data within 2 standard deviations)\n",
    "df_wo = pd.concat([df['x1'], df['x2'], df['x3'], df['y']], axis=1)\n",
    "\n",
    "# Fill missing values\n",
    "for c in df_wo.columns:\n",
    "    df_wo[c] = df_wo[c].fillna(df_wo[c].median())\n",
    "\n",
    "df_wo.shape"
   ]
  },
  {
   "cell_type": "code",
   "execution_count": 7,
   "metadata": {},
   "outputs": [
    {
     "data": {
      "image/png": "[encoded data removed]",
      "text/plain": [
       "<Figure size 720x144 with 4 Axes>"
      ]
     },
     "metadata": {
      "needs_background": "light"
     },
     "output_type": "display_data"
    }
   ],
   "source": [
    "#visualize data again without outliners\n",
    "\n",
    "columns = ['x1','x2','x3','y']\n",
    "\n",
    "fig,axes = plt.subplots(nrows=1, ncols=4, figsize =(10,2))\n",
    "\n",
    "for c, ax in zip (columns,axes.ravel()):\n",
    "    ax.hist(df_wo[c], bins=30)\n",
    "    ax.set_title(c)\n",
    "\n",
    "plt.tight_layout() # to avoid overlapping with the labels\n",
    "plt.show()"
   ]
  },
  {
   "cell_type": "code",
   "execution_count": 8,
   "metadata": {},
   "outputs": [
    {
     "name": "stdout",
     "output_type": "stream",
     "text": [
      "[0.99318644 1.02223205 0.35157281]\n",
      "MAE_lr_wo: 0.4034\n"
     ]
    }
   ],
   "source": [
    "# Split into train/test sets\n",
    "from sklearn.model_selection import train_test_split\n",
    "from sklearn.metrics import mean_absolute_error as MAE\n",
    "\n",
    "y = df_wo.y.values\n",
    "X = df_wo.drop('y', axis=1).values\n",
    "\n",
    "X_tr_wo, X_te_wo, y_tr_wo, y_te_wo = train_test_split(X,y,test_size=0.2, random_state=0)\n",
    "\n",
    "# linear regression with the outliers\n",
    "from sklearn.linear_model import LinearRegression\n",
    "\n",
    "lr = LinearRegression()\n",
    "\n",
    "lr.fit(X_tr_wo,y_tr_wo)\n",
    "print(lr.coef_) # [0.99318644 1.02223205 0.35157281]\n",
    "\n",
    "y_pred_lr_wo = lr.predict(X_te_wo)\n",
    "\n",
    "print('MAE_lr_wo: {:.4f}'.format(MAE(y_te_wo, y_pred_lr_wo))) # MAE_lr_wo: 0.4034"
   ]
  },
  {
   "cell_type": "markdown",
   "metadata": {},
   "source": [
    "### Discuss the results ###\n",
    "> As per the results below, we can see that the linear regression **without outliners** and the **huber regression** are performing better than the regression **with outliers** as per lower respective MAE."
   ]
  },
  {
   "cell_type": "code",
   "execution_count": 9,
   "metadata": {},
   "outputs": [
    {
     "name": "stdout",
     "output_type": "stream",
     "text": [
      "MAE_baseline: 117.26\n",
      "MAE_lr: 104.7884\n",
      "MAE_lr_huber 83.9081\n",
      "MAE_lr_wo: 0.4034\n"
     ]
    },
    {
     "data": {
      "image/png": "[encoded data removed]",
      "text/plain": [
       "<Figure size 432x288 with 1 Axes>"
      ]
     },
     "metadata": {
      "needs_background": "light"
     },
     "output_type": "display_data"
    }
   ],
   "source": [
    "#calulate the baseline (mean)\n",
    "\n",
    "def MAE(y, y_pred):\n",
    "    return np.mean(np.abs(y - y_pred))\n",
    "\n",
    "MAE_baseline = MAE(y_te, np.mean(y_tr))\n",
    "\n",
    "#compare the different models\n",
    "print('MAE_baseline: {:.2f}'.format(MAE_baseline)) # 117.26\n",
    "print('MAE_lr: {:.4f}'.format(MAE(y_te, y_pred_lr)))  # MAE_lr: 104.7884\n",
    "print('MAE_lr_huber {:.4f}'.format(MAE(y_te, y_pred_lr_huber))) # MAE_lr_huber 83.9081\n",
    "print('MAE_lr_wo: {:.4f}'.format(MAE(y_te_wo, y_pred_lr_wo))) # MAE_lr_wo: 0.4034\n",
    "\n",
    "#plot the different models\n",
    "\n",
    "# Final comparison\n",
    "mae_values = [MAE_baseline, MAE(y_te, y_pred_lr), MAE(y_te, y_pred_lr_huber), MAE(y_te_wo, y_pred_lr_wo)]\n",
    "titles = ['median', 'lr', 'huber', 'lr without outliners']\n",
    "\n",
    "xcor = np.arange(len(mae_values))\n",
    "plt.bar(xcor, mae_values)\n",
    "plt.xticks(xcor, titles)\n",
    "\n",
    "plt.ylabel('MAE')\n",
    "plt.show()"
   ]
  }
 ],
 "metadata": {
  "kernelspec": {
   "display_name": "Python 3",
   "language": "python",
   "name": "python3"
  },
  "language_info": {
   "codemirror_mode": {
    "name": "ipython",
    "version": 3
   },
   "file_extension": ".py",
   "mimetype": "text/x-python",
   "name": "python",
   "nbconvert_exporter": "python",
   "pygments_lexer": "ipython3",
   "version": "3.7.3"
  }
 },
 "nbformat": 4,
 "nbformat_minor": 4
}
